{
 "cells": [
  {
   "cell_type": "code",
   "execution_count": 9,
   "metadata": {},
   "outputs": [],
   "source": [
    "import pandas as pd\n",
    "import numpy as np \n",
    "import xgboost as xgb\n",
    "import optuna\n",
    "from sklearn.model_selection import train_test_split, KFold\n",
    "from sklearn.metrics import f1_score, accuracy_score, recall_score, precision_score, confusion_matrix"
   ]
  },
  {
   "cell_type": "code",
   "execution_count": 2,
   "metadata": {},
   "outputs": [],
   "source": [
    "df = pd.read_csv('cleaned_data.csv', index_col = 0)"
   ]
  },
  {
   "cell_type": "code",
   "execution_count": 3,
   "metadata": {},
   "outputs": [
    {
     "data": {
      "text/html": [
       "<div>\n",
       "<style scoped>\n",
       "    .dataframe tbody tr th:only-of-type {\n",
       "        vertical-align: middle;\n",
       "    }\n",
       "\n",
       "    .dataframe tbody tr th {\n",
       "        vertical-align: top;\n",
       "    }\n",
       "\n",
       "    .dataframe thead th {\n",
       "        text-align: right;\n",
       "    }\n",
       "</style>\n",
       "<table border=\"1\" class=\"dataframe\">\n",
       "  <thead>\n",
       "    <tr style=\"text-align: right;\">\n",
       "      <th></th>\n",
       "      <th>ReportAsOfEOD</th>\n",
       "      <th>LoanId</th>\n",
       "      <th>ListedOnUTC</th>\n",
       "      <th>UserName</th>\n",
       "      <th>LoanApplicationStartedDate</th>\n",
       "      <th>LoanDate</th>\n",
       "      <th>ContractEndDate</th>\n",
       "      <th>FirstPaymentDate</th>\n",
       "      <th>MaturityDate_Original</th>\n",
       "      <th>MaturityDate_Last</th>\n",
       "      <th>...</th>\n",
       "      <th>NoOfPreviousLoansBeforeLoan</th>\n",
       "      <th>AmountOfPreviousLoansBeforeLoan</th>\n",
       "      <th>PreviousRepaymentsBeforeLoan</th>\n",
       "      <th>PreviousEarlyRepaymentsBefoleLoan</th>\n",
       "      <th>PreviousEarlyRepaymentsCountBeforeLoan</th>\n",
       "      <th>NextPaymentNr</th>\n",
       "      <th>NrOfScheduledPayments</th>\n",
       "      <th>PrincipalDebtServicingCost</th>\n",
       "      <th>InterestAndPenaltyDebtServicingCost</th>\n",
       "      <th>Status</th>\n",
       "    </tr>\n",
       "  </thead>\n",
       "  <tbody>\n",
       "    <tr>\n",
       "      <th>0</th>\n",
       "      <td>442936</td>\n",
       "      <td>493740</td>\n",
       "      <td>65066</td>\n",
       "      <td>617325</td>\n",
       "      <td>64754</td>\n",
       "      <td>65019</td>\n",
       "      <td>342892</td>\n",
       "      <td>67743</td>\n",
       "      <td>397352</td>\n",
       "      <td>342892</td>\n",
       "      <td>...</td>\n",
       "      <td>-0.228369</td>\n",
       "      <td>-0.538027</td>\n",
       "      <td>-0.089477</td>\n",
       "      <td>-0.123961</td>\n",
       "      <td>-0.183984</td>\n",
       "      <td>-0.331731</td>\n",
       "      <td>0.387925</td>\n",
       "      <td>-0.079749</td>\n",
       "      <td>-0.061823</td>\n",
       "      <td>0.0</td>\n",
       "    </tr>\n",
       "    <tr>\n",
       "      <th>1</th>\n",
       "      <td>442936</td>\n",
       "      <td>649499</td>\n",
       "      <td>52716</td>\n",
       "      <td>627398</td>\n",
       "      <td>52683</td>\n",
       "      <td>52704</td>\n",
       "      <td>685972</td>\n",
       "      <td>55242</td>\n",
       "      <td>345576</td>\n",
       "      <td>345576</td>\n",
       "      <td>...</td>\n",
       "      <td>-0.228369</td>\n",
       "      <td>-0.272026</td>\n",
       "      <td>-0.179738</td>\n",
       "      <td>2.978860</td>\n",
       "      <td>2.751157</td>\n",
       "      <td>-0.331731</td>\n",
       "      <td>0.387925</td>\n",
       "      <td>-0.079749</td>\n",
       "      <td>-0.080312</td>\n",
       "      <td>0.0</td>\n",
       "    </tr>\n",
       "    <tr>\n",
       "      <th>2</th>\n",
       "      <td>442936</td>\n",
       "      <td>516505</td>\n",
       "      <td>61551</td>\n",
       "      <td>610980</td>\n",
       "      <td>61261</td>\n",
       "      <td>61739</td>\n",
       "      <td>267810</td>\n",
       "      <td>63344</td>\n",
       "      <td>376157</td>\n",
       "      <td>376157</td>\n",
       "      <td>...</td>\n",
       "      <td>-0.625141</td>\n",
       "      <td>-0.640336</td>\n",
       "      <td>-0.455593</td>\n",
       "      <td>-0.123961</td>\n",
       "      <td>-0.183984</td>\n",
       "      <td>-0.331731</td>\n",
       "      <td>0.387925</td>\n",
       "      <td>5.166327</td>\n",
       "      <td>6.331205</td>\n",
       "      <td>1.0</td>\n",
       "    </tr>\n",
       "    <tr>\n",
       "      <th>3</th>\n",
       "      <td>442936</td>\n",
       "      <td>516446</td>\n",
       "      <td>49131</td>\n",
       "      <td>608887</td>\n",
       "      <td>48942</td>\n",
       "      <td>49270</td>\n",
       "      <td>685972</td>\n",
       "      <td>50821</td>\n",
       "      <td>331086</td>\n",
       "      <td>331086</td>\n",
       "      <td>...</td>\n",
       "      <td>-0.625141</td>\n",
       "      <td>-0.640336</td>\n",
       "      <td>-0.455593</td>\n",
       "      <td>1.427449</td>\n",
       "      <td>2.751157</td>\n",
       "      <td>-0.331731</td>\n",
       "      <td>0.387925</td>\n",
       "      <td>-0.079749</td>\n",
       "      <td>0.587551</td>\n",
       "      <td>0.0</td>\n",
       "    </tr>\n",
       "    <tr>\n",
       "      <th>4</th>\n",
       "      <td>442936</td>\n",
       "      <td>453833</td>\n",
       "      <td>60460</td>\n",
       "      <td>631617</td>\n",
       "      <td>60275</td>\n",
       "      <td>60636</td>\n",
       "      <td>685972</td>\n",
       "      <td>62257</td>\n",
       "      <td>298077</td>\n",
       "      <td>298077</td>\n",
       "      <td>...</td>\n",
       "      <td>-0.625141</td>\n",
       "      <td>-0.640336</td>\n",
       "      <td>-0.455593</td>\n",
       "      <td>-0.123961</td>\n",
       "      <td>-0.183984</td>\n",
       "      <td>-0.331731</td>\n",
       "      <td>0.387925</td>\n",
       "      <td>-0.079749</td>\n",
       "      <td>-0.267506</td>\n",
       "      <td>0.0</td>\n",
       "    </tr>\n",
       "  </tbody>\n",
       "</table>\n",
       "<p>5 rows × 102 columns</p>\n",
       "</div>"
      ],
      "text/plain": [
       "   ReportAsOfEOD  LoanId  ListedOnUTC  UserName  LoanApplicationStartedDate  \\\n",
       "0         442936  493740        65066    617325                       64754   \n",
       "1         442936  649499        52716    627398                       52683   \n",
       "2         442936  516505        61551    610980                       61261   \n",
       "3         442936  516446        49131    608887                       48942   \n",
       "4         442936  453833        60460    631617                       60275   \n",
       "\n",
       "   LoanDate  ContractEndDate  FirstPaymentDate  MaturityDate_Original  \\\n",
       "0     65019           342892             67743                 397352   \n",
       "1     52704           685972             55242                 345576   \n",
       "2     61739           267810             63344                 376157   \n",
       "3     49270           685972             50821                 331086   \n",
       "4     60636           685972             62257                 298077   \n",
       "\n",
       "   MaturityDate_Last  ...  NoOfPreviousLoansBeforeLoan  \\\n",
       "0             342892  ...                    -0.228369   \n",
       "1             345576  ...                    -0.228369   \n",
       "2             376157  ...                    -0.625141   \n",
       "3             331086  ...                    -0.625141   \n",
       "4             298077  ...                    -0.625141   \n",
       "\n",
       "   AmountOfPreviousLoansBeforeLoan  PreviousRepaymentsBeforeLoan  \\\n",
       "0                        -0.538027                     -0.089477   \n",
       "1                        -0.272026                     -0.179738   \n",
       "2                        -0.640336                     -0.455593   \n",
       "3                        -0.640336                     -0.455593   \n",
       "4                        -0.640336                     -0.455593   \n",
       "\n",
       "   PreviousEarlyRepaymentsBefoleLoan  PreviousEarlyRepaymentsCountBeforeLoan  \\\n",
       "0                          -0.123961                               -0.183984   \n",
       "1                           2.978860                                2.751157   \n",
       "2                          -0.123961                               -0.183984   \n",
       "3                           1.427449                                2.751157   \n",
       "4                          -0.123961                               -0.183984   \n",
       "\n",
       "   NextPaymentNr  NrOfScheduledPayments  PrincipalDebtServicingCost  \\\n",
       "0      -0.331731               0.387925                   -0.079749   \n",
       "1      -0.331731               0.387925                   -0.079749   \n",
       "2      -0.331731               0.387925                    5.166327   \n",
       "3      -0.331731               0.387925                   -0.079749   \n",
       "4      -0.331731               0.387925                   -0.079749   \n",
       "\n",
       "   InterestAndPenaltyDebtServicingCost  Status  \n",
       "0                            -0.061823     0.0  \n",
       "1                            -0.080312     0.0  \n",
       "2                             6.331205     1.0  \n",
       "3                             0.587551     0.0  \n",
       "4                            -0.267506     0.0  \n",
       "\n",
       "[5 rows x 102 columns]"
      ]
     },
     "execution_count": 3,
     "metadata": {},
     "output_type": "execute_result"
    }
   ],
   "source": [
    "df.head()"
   ]
  },
  {
   "cell_type": "code",
   "execution_count": 4,
   "metadata": {},
   "outputs": [],
   "source": [
    "df.dropna(inplace = True)"
   ]
  },
  {
   "cell_type": "code",
   "execution_count": 5,
   "metadata": {},
   "outputs": [
    {
     "data": {
      "text/plain": [
       "(121461, 102)"
      ]
     },
     "execution_count": 5,
     "metadata": {},
     "output_type": "execute_result"
    }
   ],
   "source": [
    "df.shape"
   ]
  },
  {
   "cell_type": "code",
   "execution_count": 6,
   "metadata": {},
   "outputs": [],
   "source": [
    "train_df, test_df = train_test_split(df, test_size = 0.2, random_state = 42, stratify = df['Status'])"
   ]
  },
  {
   "cell_type": "code",
   "execution_count": 7,
   "metadata": {},
   "outputs": [
    {
     "name": "stdout",
     "output_type": "stream",
     "text": [
      "(97168, 102)\n",
      "(24293, 102)\n",
      "0.0    54859\n",
      "1.0    42309\n",
      "Name: Status, dtype: int64\n"
     ]
    }
   ],
   "source": [
    "print(train_df.shape)\n",
    "print(test_df.shape)\n",
    "print(train_df['Status'].value_counts())"
   ]
  },
  {
   "cell_type": "code",
   "execution_count": null,
   "metadata": {
    "scrolled": true
   },
   "outputs": [],
   "source": [
    "def objective(trial):\n",
    "    kf = KFold(n_splits = 5)\n",
    "    n_estimators = trial.suggest_int('n_estimators', 100, 1000)\n",
    "    max_depth = trial.suggest_int('max_depth', 3, 12)\n",
    "    gamma = trial.suggest_float('gamma', 0.01, 2)\n",
    "    learning_rate  = trial.suggest_float('learning_rate', 0.01, 0.3)\n",
    "    f1_scores = []\n",
    "    for train_index, test_index in kf.split(train_df):\n",
    "        X_train, Y_train = train_df.iloc[train_index].loc[:, train_df.columns != 'Status'], train_df.iloc[train_index]['Status'] \n",
    "        X_test, Y_test = train_df.iloc[test_index].loc[:, train_df.columns != 'Status'], train_df.iloc[test_index]['Status'] \n",
    "        clf = xgb.XGBClassifier(n_estimators = n_estimators,\n",
    "                                   max_depth = max_depth,\n",
    "                                   gamma = gamma,\n",
    "                                   learning_rate = learning_rate)\n",
    "        clf.fit(X_train, Y_train)\n",
    "        Y_preds = clf.predict(X_test)\n",
    "        f1_scores.append(f1_score(Y_test, Y_preds))\n",
    "    return np.mean(f1_scores)\n",
    "\n",
    "\n",
    "study = optuna.create_study(direction = 'maximize')\n",
    "study.optimize(objective, n_trials = 10)"
   ]
  },
  {
   "cell_type": "code",
   "execution_count": 10,
   "metadata": {},
   "outputs": [
    {
     "data": {
      "text/plain": [
       "array([[13713,     2],\n",
       "       [    1, 10577]], dtype=int64)"
      ]
     },
     "metadata": {},
     "output_type": "display_data"
    },
    {
     "name": "stdout",
     "output_type": "stream",
     "text": [
      "0.9998582029588317\n",
      "0.999810946214198\n",
      "0.9999054641709207\n",
      "0.9998765076359445\n"
     ]
    }
   ],
   "source": [
    "# best_params = study.best_params\n",
    "# print(best_params)\n",
    "X_train, Y_train = train_df.loc[:, train_df.columns != 'Status'], train_df.loc[:, 'Status'].ravel()\n",
    "X_test, Y_test = test_df.loc[:, train_df.columns != 'Status'], test_df.loc[:, 'Status'].ravel()\n",
    "clf = xgb.XGBClassifier(n_estimators = 225,\n",
    "                       max_depth = 4,\n",
    "                       gamma = 1,\n",
    "                       learning_rate = 0.22)\n",
    "# clf.load_model('model.json')\n",
    "clf.fit(X_train, Y_train)\n",
    "Y_preds = clf.predict(X_test)\n",
    "\n",
    "\n",
    "display(confusion_matrix(Y_test, Y_preds))\n",
    "print(f1_score(Y_test, Y_preds))\n",
    "print(precision_score(Y_test, Y_preds))\n",
    "print(recall_score(Y_test, Y_preds))\n",
    "print(accuracy_score(Y_test, Y_preds))\n",
    "\n",
    "\n"
   ]
  },
  {
   "cell_type": "code",
   "execution_count": null,
   "metadata": {},
   "outputs": [],
   "source": []
  }
 ],
 "metadata": {
  "kernelspec": {
   "display_name": "Python 3",
   "language": "python",
   "name": "python3"
  },
  "language_info": {
   "codemirror_mode": {
    "name": "ipython",
    "version": 3
   },
   "file_extension": ".py",
   "mimetype": "text/x-python",
   "name": "python",
   "nbconvert_exporter": "python",
   "pygments_lexer": "ipython3",
   "version": "3.8.3"
  }
 },
 "nbformat": 4,
 "nbformat_minor": 4
}
